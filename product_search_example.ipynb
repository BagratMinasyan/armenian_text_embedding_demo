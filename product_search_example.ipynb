{
 "cells": [
  {
   "cell_type": "markdown",
   "metadata": {},
   "source": [
    "<h1>Query Similarity Search with Embeddings</h1>\n",
    "\n",
    "<p>This example demonstrates how to use embeddings to calculate the cosine similarity between queries and a sample dataset. We will use a small dataset containing categories like <strong>Smartphones</strong>, <strong>Audio Equipment</strong>, <strong>Kitchen Appliances</strong>, <strong>Athletic Footwear</strong>, and <strong>Home Cleaning</strong>. For each query, we embed the text, calculate the cosine similarity, and retrieve the most similar item.</p>\n",
    "\n",
    "<h2>Dataset</h2>\n",
    "<ul>\n",
    "    <li><strong>Smartphones</strong></li>\n",
    "    <li><strong>Audio Equipment</strong></li>\n",
    "    <li><strong>Kitchen Appliances</strong></li>\n",
    "    <li><strong>Athletic Footwear</strong></li>\n",
    "    <li><strong>Home Cleaning</strong></li>\n",
    "</ul>\n",
    "\n",
    "<h3>Example Process</h3>\n",
    "<p>For each category, we embedded the text descriptions, calculated cosine similarity, and identified the most similar item based on a query. Below are the queries and their corresponding most similar items:</p>\n"
   ]
  },
  {
   "cell_type": "markdown",
   "metadata": {},
   "source": [
    "<h2>Importing Required Packages</h2>\n",
    "\n",
    "<p>Before starting, ensure you have all the necessary packages installed. If a package is missing, you can install it using <code>pip</code>. Below is the list of required imports for this project:</p>"
   ]
  },
  {
   "cell_type": "code",
   "execution_count": 11,
   "metadata": {},
   "outputs": [],
   "source": [
    "from sentence_transformers import SentenceTransformer\n",
    "\n",
    "import torch \n",
    "import torch.nn.functional as F\n",
    "from torch import Tensor\n",
    "\n",
    "from sklearn.discriminant_analysis import LinearDiscriminantAnalysis\n",
    "from sklearn.metrics import f1_score, confusion_matrix\n",
    "\n",
    "from datasets import load_from_disk, Dataset\n",
    "\n",
    "import numpy as np\n",
    "import pandas as pd"
   ]
  },
  {
   "cell_type": "markdown",
   "metadata": {},
   "source": [
    "<h2>Load Dataset and Move Model to GPU (if available)</h2>"
   ]
  },
  {
   "cell_type": "code",
   "execution_count": 12,
   "metadata": {},
   "outputs": [
    {
     "name": "stderr",
     "output_type": "stream",
     "text": [
      "No sentence-transformers model found with name Metric-AI/armenian-text-embeddings-1. Creating a new one with mean pooling.\n"
     ]
    }
   ],
   "source": [
    "device = \"cuda\" if torch.cuda.is_available() else \"cpu\"\n",
    "model = SentenceTransformer('Metric-AI/armenian-text-embeddings-1',device=device)\n",
    "dataset = load_from_disk('product_demo_data')"
   ]
  },
  {
   "cell_type": "code",
   "execution_count": 13,
   "metadata": {},
   "outputs": [
    {
     "name": "stdout",
     "output_type": "stream",
     "text": [
      "Dataset({\n",
      "    features: ['name', 'description', 'item_section'],\n",
      "    num_rows: 15\n",
      "})\n"
     ]
    }
   ],
   "source": [
    "print(dataset)"
   ]
  },
  {
   "cell_type": "markdown",
   "metadata": {},
   "source": [
    "<h1>Passage Preprocessing Steps</h1>\n",
    "\n",
    "<p>In this example, product descriptions are treated as \"passages.\" Each passage is prefixed with <code>passage:</code>. The following preprocessing steps are applied:</p>"
   ]
  },
  {
   "cell_type": "code",
   "execution_count": 14,
   "metadata": {},
   "outputs": [
    {
     "data": {
      "application/vnd.jupyter.widget-view+json": {
       "model_id": "a73f6163a39f4d2280d7ea759739530b",
       "version_major": 2,
       "version_minor": 0
      },
      "text/plain": [
       "Map:   0%|          | 0/15 [00:00<?, ? examples/s]"
      ]
     },
     "metadata": {},
     "output_type": "display_data"
    },
    {
     "data": {
      "application/vnd.jupyter.widget-view+json": {
       "model_id": "535d4def4f944eb4a569c2f97a1789d2",
       "version_major": 2,
       "version_minor": 0
      },
      "text/plain": [
       "Map:   0%|          | 0/15 [00:00<?, ? examples/s]"
      ]
     },
     "metadata": {},
     "output_type": "display_data"
    }
   ],
   "source": [
    "dataset = dataset.map(lambda x: {'passage': 'passage: '+x['description']})\n",
    "dataset = dataset.map(lambda x: {'embedding': model.encode(x['passage'], normalize_embeddings=True)}, batch_size=32)"
   ]
  },
  {
   "cell_type": "code",
   "execution_count": 15,
   "metadata": {},
   "outputs": [],
   "source": [
    "df = dataset.to_pandas()"
   ]
  },
  {
   "cell_type": "code",
   "execution_count": 16,
   "metadata": {},
   "outputs": [
    {
     "name": "stdout",
     "output_type": "stream",
     "text": [
      "Apple-ի ֆլագման սմարթֆոն՝ առաջադեմ տեսախցիկի համակարգով, A17 Pro չիպով և տիտանից կորպուսով, որը ունի նորարարական հաշվարկային լուսանկարչական հնարավորություններ:\n",
      "Բարձր տեսակի Android սմարթֆոն՝ 200MP տեսախցիկով, S Pen ինտեգրացիայով, հզոր Snapdragon պրոցեսորով և լայն էկրանով՝ խաղերի և լուսանկարչության համար:\n",
      "Պրեմիում Android սմարթֆոն՝ հզոր տեսախցիկով, արհեստական բանականությամբ համալրված հատկություններով և հզոր պրոցեսորով՝ ստեղծագործական փորձառության համար:\n",
      "Պրեմիում աղմուկը մեկուսացնող անլար ականջակալներ՝ բացառիկ ձայնի որակով, խելացի աղմուկի մեկուսացմամբ և հարմարավետ over-ear դիզայնով՝ աուդիոֆիլների համար:\n",
      "Անլար աղմուկը մեկուսացնող ականջակալներ՝ ադապտիվ ձայնի կառավարմամբ, հարմարավետ տեղադրմամբ և բացառիկ ձայնի որակով՝ իմերսիվ լսողական փորձառության համար:\n",
      "Առաջադեմ անլար ականջներսի ականջակալներ՝ ակտիվ աղմուկի մեկուսացմամբ, տարածական ձայնով և Apple էկոհամակարգում անխափան ինտեգրացիայով՝ պրեմիում լսողական փորձառության համար:\n",
      "Իկոնիկ խոհանոցի սարք՝ հզոր մոտոր, բազմաֆունկցիոնալ կցորդների հնարավորություն և կլասիկ դիզայն՝ տարբեր գույներով՝ տնային հացաթխիչների և խոհարարական էնտուզիաստների համար:\n",
      "Բազմաֆունկցիոնալ ճնշման կաթսա՝ ինը եփելու ռեժիմներով, առաջադեմ անվտանգության հատկություններով և ինտուիտիվ թվային կառավարումներով՝ հարմարավետ տնային եփելու համար:\n",
      "Բազմակողմանի սեղանի վրա դրվող վառարան՝ բազմաթիվ եփելու ֆունկցիաներով, այդ թվում օդով տապակելով, չորացնելով և կոնվեկցիոն եփելով՝ գուրմե տնային ճաշի պատրաստման համար:\n",
      "Բարձր արդյունավետ վազքի կոշիկներ՝ արձագանքող մեղմացնող միջադիրներով, շնչող ցանցավոր վերևով և բարեկարգված տեղադրմամբ՝ պրոֆեսիոնալ երկար վազքով և մարզական պատրաստությամբ զբաղվողների համար:\n",
      "Պրեմիում վազքի կոշիկներ՝ առաջադեմ գելային բարձիկով, աջակցող դիզայնով և բարելավված հարմարավետությամբ՝ երկար պրոֆեսիոնալ վազքով զբաղվողների համար:\n",
      "Թեթև վազքի կոշիկներ՝ մաքսիմալ մեղմացնող միջադիրներով, մետա-հոլովակի դիզայնով և արձագանքող միջնակերպով՝ հարթ և հարմարավետ վազքի փորձառության համար:\n",
      "Անլար փոշեկուլ՝ լազերային փոշու հայտնաբերումով, հզոր ծծող ուժով, խելացի մաքրման ռեժիմներով և համապարփակ ֆիլտրացիայի համակարգով՝ խոր տնային մաքրման համար:\n",
      "Առաջադեմ ռոբոտ փոշեկուլ՝ խելացի նավիգացիայով, խոչընդոտներից խուսափելու ունակությամբ, ինքնաթափ հիմքով և տնային խելացի համակարգերի ինտեգրացիայով՝ առանց ջանքի մաքրման համար:\n",
      "Հզոր ուղղահայաց փոշեկուլ՝ DuoClean PowerFins-ով, ինքնամաքրվող խոզանակով և առաջադեմ ֆիլտրացիայի համակարգով՝ ամբողջական հատակի և գորգի մաքրման համար:\n"
     ]
    }
   ],
   "source": [
    "for i in range(df.shape[0]):\n",
    "    print(df.iloc[i]['description'])"
   ]
  },
  {
   "cell_type": "markdown",
   "metadata": {},
   "source": [
    "<h1>Query Similarity Calculation</h1>\n",
    "\n",
    "<p>The following steps are taken in the code to calculate the similarity between queries and product descriptions:</p>\n",
    "\n",
    "<ol>\n",
    "    <li><strong>Query Processing:</strong> Each query is prefixed with <code>query:</code> to differentiate it from the product descriptions.</li>\n",
    "    <li><strong>Embedding Queries:</strong> The processed queries are embedded using a pre-trained model, and the embeddings are normalized.</li>\n",
    "    <li><strong>Similarity Calculation:</strong> For each query, the cosine similarity is calculated between the query embedding and the embeddings of the products in the dataset.</li>\n",
    "    <li><strong>Finding the Most Similar Product:</strong> The product with the highest similarity score is selected as the most similar item to the query. The name and description of the most similar product are printed for each query.</li>\n",
    "</ol>"
   ]
  },
  {
   "cell_type": "code",
   "execution_count": 18,
   "metadata": {},
   "outputs": [
    {
     "data": {
      "application/vnd.jupyter.widget-view+json": {
       "model_id": "582b590c68d2406d9b3f688dea949e02",
       "version_major": 2,
       "version_minor": 0
      },
      "text/plain": [
       "Map:   0%|          | 0/15 [00:00<?, ? examples/s]"
      ]
     },
     "metadata": {},
     "output_type": "display_data"
    },
    {
     "name": "stdout",
     "output_type": "stream",
     "text": [
      "Query: բարձրորակ սմարթֆոն՝ հզոր պրոցեսորով\n",
      "Most similar item in the dataset:\n",
      "Name: Google Pixel 8 Pro\n",
      "Description: Պրեմիում Android սմարթֆոն՝ հզոր տեսախցիկով, արհեստական բանականությամբ համալրված հատկություններով և հզոր պրոցեսորով՝ ստեղծագործական փորձառության համար:\n"
     ]
    },
    {
     "data": {
      "application/vnd.jupyter.widget-view+json": {
       "model_id": "69ad919cbf714b9e9edacab162679b67",
       "version_major": 2,
       "version_minor": 0
      },
      "text/plain": [
       "Map:   0%|          | 0/15 [00:00<?, ? examples/s]"
      ]
     },
     "metadata": {},
     "output_type": "display_data"
    },
    {
     "name": "stdout",
     "output_type": "stream",
     "text": [
      "Query: աղմուկը մեկուսացնող անլար ականջակալներ\n",
      "Most similar item in the dataset:\n",
      "Name: Bose QuietComfort Earbuds II\n",
      "Description: Անլար աղմուկը մեկուսացնող ականջակալներ՝ ադապտիվ ձայնի կառավարմամբ, հարմարավետ տեղադրմամբ և բացառիկ ձայնի որակով՝ իմերսիվ լսողական փորձառության համար:\n"
     ]
    },
    {
     "data": {
      "application/vnd.jupyter.widget-view+json": {
       "model_id": "f553af83c00543d7a49a66f01547ebca",
       "version_major": 2,
       "version_minor": 0
      },
      "text/plain": [
       "Map:   0%|          | 0/15 [00:00<?, ? examples/s]"
      ]
     },
     "metadata": {},
     "output_type": "display_data"
    },
    {
     "name": "stdout",
     "output_type": "stream",
     "text": [
      "Query: բազմաֆունկցիոնալ խոհանոցային գործիք\n",
      "Most similar item in the dataset:\n",
      "Name: KitchenAid Artisan սեղանի խառնիչ\n",
      "Description: Իկոնիկ խոհանոցի սարք՝ հզոր մոտոր, բազմաֆունկցիոնալ կցորդների հնարավորություն և կլասիկ դիզայն՝ տարբեր գույներով՝ տնային հացաթխիչների և խոհարարական էնտուզիաստների համար:\n"
     ]
    },
    {
     "data": {
      "application/vnd.jupyter.widget-view+json": {
       "model_id": "7dea083a585749a2b3b45d5a34918bc3",
       "version_major": 2,
       "version_minor": 0
      },
      "text/plain": [
       "Map:   0%|          | 0/15 [00:00<?, ? examples/s]"
      ]
     },
     "metadata": {},
     "output_type": "display_data"
    },
    {
     "name": "stdout",
     "output_type": "stream",
     "text": [
      "Query: վազքի կոշիկներ\n",
      "Most similar item in the dataset:\n",
      "Name: Nike Air Zoom Pegasus 40\n",
      "Description: Բարձր արդյունավետ վազքի կոշիկներ՝ արձագանքող մեղմացնող միջադիրներով, շնչող ցանցավոր վերևով և բարեկարգված տեղադրմամբ՝ պրոֆեսիոնալ երկար վազքով և մարզական պատրաստությամբ զբաղվողների համար:\n"
     ]
    },
    {
     "data": {
      "application/vnd.jupyter.widget-view+json": {
       "model_id": "1ee1e5e89c404cd48f8facd838680549",
       "version_major": 2,
       "version_minor": 0
      },
      "text/plain": [
       "Map:   0%|          | 0/15 [00:00<?, ? examples/s]"
      ]
     },
     "metadata": {},
     "output_type": "display_data"
    },
    {
     "name": "stdout",
     "output_type": "stream",
     "text": [
      "Query: ռոբոտ փոշեկուլ\n",
      "Most similar item in the dataset:\n",
      "Name: iRobot Roomba j7+\n",
      "Description: Առաջադեմ ռոբոտ փոշեկուլ՝ խելացի նավիգացիայով, խոչընդոտներից խուսափելու ունակությամբ, ինքնաթափ հիմքով և տնային խելացի համակարգերի ինտեգրացիայով՝ առանց ջանքի մաքրման համար:\n"
     ]
    }
   ],
   "source": [
    "queries = [\n",
    "    \"բարձրորակ սմարթֆոն՝ հզոր պրոցեսորով\",\n",
    "    \"աղմուկը մեկուսացնող անլար ականջակալներ\",\n",
    "    \"բազմաֆունկցիոնալ խոհանոցային գործիք\",\n",
    "    \"վազքի կոշիկներ\",\n",
    "    \"ռոբոտ փոշեկուլ\"\n",
    "]\n",
    "processed_queries = ['query: ' + query for query in queries]\n",
    "query_embedding = model.encode(processed_queries, normalize_embeddings=True)\n",
    "\n",
    "for i, query in enumerate(queries):\n",
    "    dataset = dataset.map(lambda x: {'similarity_scores': x['embedding']@query_embedding[i]})\n",
    "    max_row = max(dataset, key=lambda x: x['similarity_scores'])\n",
    "    \n",
    "    print(f\"Query: {query}\")\n",
    "    print(f\"Most similar item in the dataset:\")\n",
    "    print(f\"Name: {max_row['name']}\")\n",
    "    print(f\"Description: {max_row['description']}\")"
   ]
  }
 ],
 "metadata": {
  "kernelspec": {
   "display_name": "Python 3",
   "language": "python",
   "name": "python3"
  },
  "language_info": {
   "codemirror_mode": {
    "name": "ipython",
    "version": 3
   },
   "file_extension": ".py",
   "mimetype": "text/x-python",
   "name": "python",
   "nbconvert_exporter": "python",
   "pygments_lexer": "ipython3",
   "version": "3.10.12"
  }
 },
 "nbformat": 4,
 "nbformat_minor": 2
}
