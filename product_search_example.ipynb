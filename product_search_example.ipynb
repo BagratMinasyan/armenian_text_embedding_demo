{
 "cells": [
  {
   "cell_type": "markdown",
   "metadata": {},
   "source": [
    "<h1>Query Similarity Search with Embeddings</h1>\n",
    "\n",
    "<p>This example demonstrates how to use embeddings to calculate the cosine similarity between queries and a sample dataset. We will use a small dataset containing categories like <strong>Smartphones</strong>, <strong>Audio Equipment</strong>, <strong>Kitchen Appliances</strong>, <strong>Athletic Footwear</strong>, and <strong>Home Cleaning</strong>. For each query, we embed the text, calculate the cosine similarity, and retrieve the most similar item.</p>\n",
    "\n",
    "<h2>Dataset</h2>\n",
    "<ul>\n",
    "    <li><strong>Smartphones</strong></li>\n",
    "    <li><strong>Audio Equipment</strong></li>\n",
    "    <li><strong>Kitchen Appliances</strong></li>\n",
    "    <li><strong>Athletic Footwear</strong></li>\n",
    "    <li><strong>Home Cleaning</strong></li>\n",
    "</ul>\n",
    "\n",
    "<h3>Example Process</h3>\n",
    "<p>For each category, we embedded the text descriptions, calculated cosine similarity, and identified the most similar item based on a query. Below are the queries and their corresponding most similar items:</p>\n"
   ]
  },
  {
   "cell_type": "markdown",
   "metadata": {},
   "source": [
    "<h2>Importing Required Packages</h2>\n",
    "\n",
    "<p>Before starting, ensure you have all the necessary packages installed. If a package is missing, you can install it using <code>pip</code>. Below is the list of required imports for this project:</p>"
   ]
  },
  {
   "cell_type": "code",
   "execution_count": 12,
   "metadata": {},
   "outputs": [],
   "source": [
    "from sentence_transformers import SentenceTransformer\n",
    "\n",
    "import torch \n",
    "import torch.nn.functional as F\n",
    "from torch import Tensor\n",
    "\n",
    "from sklearn.discriminant_analysis import LinearDiscriminantAnalysis\n",
    "from sklearn.metrics import f1_score, confusion_matrix\n",
    "\n",
    "from datasets import load_from_disk, Dataset\n",
    "\n",
    "import numpy as np\n",
    "import pandas as pd"
   ]
  },
  {
   "cell_type": "markdown",
   "metadata": {},
   "source": [
    "<h2>Load Dataset and Move Model to GPU (if available)</h2>"
   ]
  },
  {
   "cell_type": "code",
   "execution_count": 55,
   "metadata": {},
   "outputs": [
    {
     "name": "stderr",
     "output_type": "stream",
     "text": [
      "No sentence-transformers model found with name Metric-AI/armenian-text-embeddings-1. Creating a new one with mean pooling.\n"
     ]
    }
   ],
   "source": [
    "device = \"cuda\" if torch.cuda.is_available() else \"cpu\"\n",
    "model = SentenceTransformer('Metric-AI/armenian-text-embeddings-1',device=device)\n",
    "dataset = load_from_disk('product_data')"
   ]
  },
  {
   "cell_type": "code",
   "execution_count": 69,
   "metadata": {},
   "outputs": [
    {
     "name": "stdout",
     "output_type": "stream",
     "text": [
      "Dataset({\n",
      "    features: ['name', 'description', 'item_section', 'passage', 'embedding', 'similarity_scores'],\n",
      "    num_rows: 15\n",
      "})\n"
     ]
    }
   ],
   "source": [
    "print(dataset)"
   ]
  },
  {
   "cell_type": "markdown",
   "metadata": {},
   "source": [
    "<h1>Passage Preprocessing Steps</h1>\n",
    "\n",
    "<p>In this example, product descriptions are treated as \"passages.\" Each passage is prefixed with <code>passage:</code>. The following preprocessing steps are applied:</p>"
   ]
  },
  {
   "cell_type": "code",
   "execution_count": 56,
   "metadata": {},
   "outputs": [
    {
     "data": {
      "application/vnd.jupyter.widget-view+json": {
       "model_id": "ec33ec04148b4e41bbba86f1c8ffd7f4",
       "version_major": 2,
       "version_minor": 0
      },
      "text/plain": [
       "Map:   0%|          | 0/15 [00:00<?, ? examples/s]"
      ]
     },
     "metadata": {},
     "output_type": "display_data"
    }
   ],
   "source": [
    "dataset = dataset.map(lambda x: {'passage': 'passage: '+x['description']})\n",
    "dataset = dataset.map(lambda x: {'embedding': model.encode(x['passage'], normalize_embeddings=True)}, batch_size=32)"
   ]
  },
  {
   "cell_type": "code",
   "execution_count": 57,
   "metadata": {},
   "outputs": [],
   "source": [
    "df = dataset.to_pandas()"
   ]
  },
  {
   "cell_type": "code",
   "execution_count": 58,
   "metadata": {},
   "outputs": [
    {
     "name": "stdout",
     "output_type": "stream",
     "text": [
      "passage: Apple's flagship smartphone with advanced camera system, A17 Pro chip, and titanium design featuring innovative computational photography capabilities.\n",
      "passage: High-end Android smartphone with 200MP camera, S Pen integration, powerful Snapdragon processor, and expansive display for mobile productivity and photography.\n",
      "passage: Premium Android smartphone with advanced computational photography, AI-enhanced features, and powerful processor for creative mobile experiences.\n",
      "passage: Premium noise-canceling wireless headphones with exceptional sound quality, intelligent noise cancellation, and comfortable over-ear design for audiophiles.\n",
      "passage: Wireless noise-canceling earbuds with adaptive sound control, comfortable fit, and exceptional audio quality for immersive listening experiences.\n",
      "passage: Advanced wireless earbuds with active noise cancellation, spatial audio, and seamless integration with Apple ecosystem for premium listening experience.\n",
      "passage: Iconic kitchen appliance with powerful motor, multiple attachment capabilities, and classic design available in various colors for home bakers and cooking enthusiasts.\n",
      "passage: Multi-functional pressure cooker with nine cooking modes, advanced safety features, and intuitive digital controls for convenient home cooking.\n",
      "passage: Versatile countertop oven with multiple cooking functions, including air frying, dehydrating, and convection cooking for gourmet home meal preparation.\n",
      "passage: High-performance running shoes with responsive cushioning, breathable mesh upper, and improved fit for long-distance runners and athletic training.\n",
      "passage: Premium running shoes with advanced gel cushioning, supportive design, and enhanced comfort for long-distance runners seeking peak performance.\n",
      "passage: Lightweight running shoes with maximum cushioning, meta-rocker design, and responsive midsole for smooth and comfortable running experiences.\n",
      "passage: Cordless vacuum cleaner with laser dust detection, powerful suction, intelligent cleaning modes, and comprehensive filtration system for deep home cleaning.\n",
      "passage: Advanced robotic vacuum with intelligent navigation, obstacle avoidance, self-emptying base, and smart home integration for effortless cleaning.\n",
      "passage: Powerful upright vacuum with DuoClean PowerFins, self-cleaning brushroll, and advanced filtration system for comprehensive floor and carpet cleaning.\n"
     ]
    }
   ],
   "source": [
    "for i in range(df.shape[0]):\n",
    "    print(df.iloc[i]['passage'])"
   ]
  },
  {
   "cell_type": "markdown",
   "metadata": {},
   "source": [
    "<h1>Query Similarity Calculation</h1>\n",
    "\n",
    "<p>The following steps are taken in the code to calculate the similarity between queries and product descriptions:</p>\n",
    "\n",
    "<ol>\n",
    "    <li><strong>Query Processing:</strong> Each query is prefixed with <code>query:</code> to differentiate it from the product descriptions.</li>\n",
    "    <li><strong>Embedding Queries:</strong> The processed queries are embedded using a pre-trained model, and the embeddings are normalized.</li>\n",
    "    <li><strong>Similarity Calculation:</strong> For each query, the cosine similarity is calculated between the query embedding and the embeddings of the products in the dataset.</li>\n",
    "    <li><strong>Finding the Most Similar Product:</strong> The product with the highest similarity score is selected as the most similar item to the query. The name and description of the most similar product are printed for each query.</li>\n",
    "</ol>"
   ]
  },
  {
   "cell_type": "code",
   "execution_count": 65,
   "metadata": {},
   "outputs": [
    {
     "data": {
      "application/vnd.jupyter.widget-view+json": {
       "model_id": "14482ba717294c00af0f9a257cc88813",
       "version_major": 2,
       "version_minor": 0
      },
      "text/plain": [
       "Map:   0%|          | 0/15 [00:00<?, ? examples/s]"
      ]
     },
     "metadata": {},
     "output_type": "display_data"
    },
    {
     "name": "stdout",
     "output_type": "stream",
     "text": [
      "Query: high-end smartphone with powerful processor\n",
      "Most similar item in the dataset:\n",
      "Name: Samsung Galaxy S23 Ultra\n",
      "Description: High-end Android smartphone with 200MP camera, S Pen integration, powerful Snapdragon processor, and expansive display for mobile productivity and photography.\n"
     ]
    },
    {
     "data": {
      "application/vnd.jupyter.widget-view+json": {
       "model_id": "2a8f7a0010704c4a84879452763938d6",
       "version_major": 2,
       "version_minor": 0
      },
      "text/plain": [
       "Map:   0%|          | 0/15 [00:00<?, ? examples/s]"
      ]
     },
     "metadata": {},
     "output_type": "display_data"
    },
    {
     "name": "stdout",
     "output_type": "stream",
     "text": [
      "Query: noise-canceling wireless headphones\n",
      "Most similar item in the dataset:\n",
      "Name: Sony WH-1000XM5 Headphones\n",
      "Description: Premium noise-canceling wireless headphones with exceptional sound quality, intelligent noise cancellation, and comfortable over-ear design for audiophiles.\n"
     ]
    },
    {
     "data": {
      "application/vnd.jupyter.widget-view+json": {
       "model_id": "557c68c5b3c54aa59070d3631653936d",
       "version_major": 2,
       "version_minor": 0
      },
      "text/plain": [
       "Map:   0%|          | 0/15 [00:00<?, ? examples/s]"
      ]
     },
     "metadata": {},
     "output_type": "display_data"
    },
    {
     "name": "stdout",
     "output_type": "stream",
     "text": [
      "Query: multi-functional kitchen tool\n",
      "Most similar item in the dataset:\n",
      "Name: KitchenAid Artisan Stand Mixer\n",
      "Description: Iconic kitchen appliance with powerful motor, multiple attachment capabilities, and classic design available in various colors for home bakers and cooking enthusiasts.\n"
     ]
    },
    {
     "data": {
      "application/vnd.jupyter.widget-view+json": {
       "model_id": "a31b8f268e3046b3a9fef2558e676295",
       "version_major": 2,
       "version_minor": 0
      },
      "text/plain": [
       "Map:   0%|          | 0/15 [00:00<?, ? examples/s]"
      ]
     },
     "metadata": {},
     "output_type": "display_data"
    },
    {
     "name": "stdout",
     "output_type": "stream",
     "text": [
      "Query: high-performance running sneakers\n",
      "Most similar item in the dataset:\n",
      "Name: Nike Air Zoom Pegasus 40\n",
      "Description: High-performance running shoes with responsive cushioning, breathable mesh upper, and improved fit for long-distance runners and athletic training.\n"
     ]
    },
    {
     "data": {
      "application/vnd.jupyter.widget-view+json": {
       "model_id": "34bed17f6bfe4185a128a6ebe78f12f3",
       "version_major": 2,
       "version_minor": 0
      },
      "text/plain": [
       "Map:   0%|          | 0/15 [00:00<?, ? examples/s]"
      ]
     },
     "metadata": {},
     "output_type": "display_data"
    },
    {
     "name": "stdout",
     "output_type": "stream",
     "text": [
      "Query: advanced robotic vacuum cleaner\n",
      "Most similar item in the dataset:\n",
      "Name: iRobot Roomba j7+\n",
      "Description: Advanced robotic vacuum with intelligent navigation, obstacle avoidance, self-emptying base, and smart home integration for effortless cleaning.\n"
     ]
    }
   ],
   "source": [
    "queries = ['high-end smartphone with powerful processor', 'noise-canceling wireless headphones','multi-functional kitchen tool', 'high-performance running sneakers', 'advanced robotic vacuum cleaner']\n",
    "processed_queries = ['query: ' + query for query in queries]\n",
    "query_embedding = model.encode(processed_queries, normalize_embeddings=True)\n",
    "\n",
    "for i, query in enumerate(queries):\n",
    "    dataset = dataset.map(lambda x: {'similarity_scores': x['embedding']@query_embedding[i]})\n",
    "    max_row = max(dataset, key=lambda x: x['similarity_scores'])\n",
    "    \n",
    "    print(f\"Query: {query}\")\n",
    "    print(f\"Most similar item in the dataset:\")\n",
    "    print(f\"Name: {max_row['name']}\")\n",
    "    print(f\"Description: {max_row['description']}\")"
   ]
  }
 ],
 "metadata": {
  "kernelspec": {
   "display_name": "Python 3",
   "language": "python",
   "name": "python3"
  },
  "language_info": {
   "codemirror_mode": {
    "name": "ipython",
    "version": 3
   },
   "file_extension": ".py",
   "mimetype": "text/x-python",
   "name": "python",
   "nbconvert_exporter": "python",
   "pygments_lexer": "ipython3",
   "version": "3.10.12"
  }
 },
 "nbformat": 4,
 "nbformat_minor": 2
}
